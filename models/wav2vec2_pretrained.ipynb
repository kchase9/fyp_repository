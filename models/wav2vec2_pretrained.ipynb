{
 "cells": [
  {
   "cell_type": "code",
   "execution_count": 1,
   "metadata": {
    "colab": {
     "base_uri": "https://localhost:8080/"
    },
    "executionInfo": {
     "elapsed": 5231,
     "status": "ok",
     "timestamp": 1741838765640,
     "user": {
      "displayName": "Kristeen Chase",
      "userId": "06112654503790926343"
     },
     "user_tz": 240
    },
    "id": "sHigXDVFnFtH",
    "outputId": "07f5081b-20fd-4bf9-c382-0bdba6adfcf0"
   },
   "outputs": [],
   "source": [
    "#!pip install --upgrade pip\n",
    "# !pip install --upgrade \"pip<24.1\"\n"
   ]
  },
  {
   "cell_type": "code",
   "execution_count": 2,
   "metadata": {
    "colab": {
     "base_uri": "https://localhost:8080/"
    },
    "executionInfo": {
     "elapsed": 149706,
     "status": "ok",
     "timestamp": 1743388242985,
     "user": {
      "displayName": "Kristeen Chase",
      "userId": "06112654503790926343"
     },
     "user_tz": 240
    },
    "id": "KKf7N6VgwsTT",
    "outputId": "aa344bcd-49b2-4a82-e6e5-8c237c165e7b",
    "scrolled": true
   },
   "outputs": [
    {
     "name": "stdout",
     "output_type": "stream",
     "text": [
      "Requirement already satisfied: datasets in /home/kris/Documents/fyp/fyp_env/lib/python3.11/site-packages (3.6.0)\n",
      "Requirement already satisfied: filelock in /home/kris/Documents/fyp/fyp_env/lib/python3.11/site-packages (from datasets) (3.18.0)\n",
      "Requirement already satisfied: numpy>=1.17 in /home/kris/Documents/fyp/fyp_env/lib/python3.11/site-packages (from datasets) (1.24.4)\n",
      "Requirement already satisfied: pyarrow>=15.0.0 in /home/kris/Documents/fyp/fyp_env/lib/python3.11/site-packages (from datasets) (20.0.0)\n",
      "Requirement already satisfied: dill<0.3.9,>=0.3.0 in /home/kris/Documents/fyp/fyp_env/lib/python3.11/site-packages (from datasets) (0.3.8)\n",
      "Requirement already satisfied: pandas in /home/kris/Documents/fyp/fyp_env/lib/python3.11/site-packages (from datasets) (2.2.3)\n",
      "Requirement already satisfied: requests>=2.32.2 in /home/kris/Documents/fyp/fyp_env/lib/python3.11/site-packages (from datasets) (2.32.3)\n",
      "Requirement already satisfied: tqdm>=4.66.3 in /home/kris/Documents/fyp/fyp_env/lib/python3.11/site-packages (from datasets) (4.67.1)\n",
      "Requirement already satisfied: xxhash in /home/kris/Documents/fyp/fyp_env/lib/python3.11/site-packages (from datasets) (3.5.0)\n",
      "Requirement already satisfied: multiprocess<0.70.17 in /home/kris/Documents/fyp/fyp_env/lib/python3.11/site-packages (from datasets) (0.70.16)\n",
      "Requirement already satisfied: fsspec<=2025.3.0,>=2023.1.0 in /home/kris/Documents/fyp/fyp_env/lib/python3.11/site-packages (from fsspec[http]<=2025.3.0,>=2023.1.0->datasets) (2024.12.0)\n",
      "Requirement already satisfied: huggingface-hub>=0.24.0 in /home/kris/Documents/fyp/fyp_env/lib/python3.11/site-packages (from datasets) (0.32.1)\n",
      "Requirement already satisfied: packaging in /home/kris/Documents/fyp/fyp_env/lib/python3.11/site-packages (from datasets) (24.2)\n",
      "Requirement already satisfied: pyyaml>=5.1 in /home/kris/Documents/fyp/fyp_env/lib/python3.11/site-packages (from datasets) (6.0.2)\n",
      "Requirement already satisfied: aiohttp!=4.0.0a0,!=4.0.0a1 in /home/kris/Documents/fyp/fyp_env/lib/python3.11/site-packages (from fsspec[http]<=2025.3.0,>=2023.1.0->datasets) (3.11.18)\n",
      "Requirement already satisfied: aiohappyeyeballs>=2.3.0 in /home/kris/Documents/fyp/fyp_env/lib/python3.11/site-packages (from aiohttp!=4.0.0a0,!=4.0.0a1->fsspec[http]<=2025.3.0,>=2023.1.0->datasets) (2.6.1)\n",
      "Requirement already satisfied: aiosignal>=1.1.2 in /home/kris/Documents/fyp/fyp_env/lib/python3.11/site-packages (from aiohttp!=4.0.0a0,!=4.0.0a1->fsspec[http]<=2025.3.0,>=2023.1.0->datasets) (1.3.2)\n",
      "Requirement already satisfied: attrs>=17.3.0 in /home/kris/Documents/fyp/fyp_env/lib/python3.11/site-packages (from aiohttp!=4.0.0a0,!=4.0.0a1->fsspec[http]<=2025.3.0,>=2023.1.0->datasets) (25.3.0)\n",
      "Requirement already satisfied: frozenlist>=1.1.1 in /home/kris/Documents/fyp/fyp_env/lib/python3.11/site-packages (from aiohttp!=4.0.0a0,!=4.0.0a1->fsspec[http]<=2025.3.0,>=2023.1.0->datasets) (1.6.0)\n",
      "Requirement already satisfied: multidict<7.0,>=4.5 in /home/kris/Documents/fyp/fyp_env/lib/python3.11/site-packages (from aiohttp!=4.0.0a0,!=4.0.0a1->fsspec[http]<=2025.3.0,>=2023.1.0->datasets) (6.4.4)\n",
      "Requirement already satisfied: propcache>=0.2.0 in /home/kris/Documents/fyp/fyp_env/lib/python3.11/site-packages (from aiohttp!=4.0.0a0,!=4.0.0a1->fsspec[http]<=2025.3.0,>=2023.1.0->datasets) (0.3.1)\n",
      "Requirement already satisfied: yarl<2.0,>=1.17.0 in /home/kris/Documents/fyp/fyp_env/lib/python3.11/site-packages (from aiohttp!=4.0.0a0,!=4.0.0a1->fsspec[http]<=2025.3.0,>=2023.1.0->datasets) (1.20.0)\n",
      "Requirement already satisfied: idna>=2.0 in /home/kris/Documents/fyp/fyp_env/lib/python3.11/site-packages (from yarl<2.0,>=1.17.0->aiohttp!=4.0.0a0,!=4.0.0a1->fsspec[http]<=2025.3.0,>=2023.1.0->datasets) (3.10)\n",
      "Requirement already satisfied: typing-extensions>=3.7.4.3 in /home/kris/Documents/fyp/fyp_env/lib/python3.11/site-packages (from huggingface-hub>=0.24.0->datasets) (4.13.2)\n",
      "Requirement already satisfied: hf-xet<2.0.0,>=1.1.2 in /home/kris/Documents/fyp/fyp_env/lib/python3.11/site-packages (from huggingface-hub>=0.24.0->datasets) (1.1.2)\n",
      "Requirement already satisfied: charset-normalizer<4,>=2 in /home/kris/Documents/fyp/fyp_env/lib/python3.11/site-packages (from requests>=2.32.2->datasets) (3.4.2)\n",
      "Requirement already satisfied: urllib3<3,>=1.21.1 in /home/kris/Documents/fyp/fyp_env/lib/python3.11/site-packages (from requests>=2.32.2->datasets) (2.4.0)\n",
      "Requirement already satisfied: certifi>=2017.4.17 in /home/kris/Documents/fyp/fyp_env/lib/python3.11/site-packages (from requests>=2.32.2->datasets) (2025.4.26)\n",
      "Requirement already satisfied: python-dateutil>=2.8.2 in /home/kris/Documents/fyp/fyp_env/lib/python3.11/site-packages (from pandas->datasets) (2.9.0.post0)\n",
      "Requirement already satisfied: pytz>=2020.1 in /home/kris/Documents/fyp/fyp_env/lib/python3.11/site-packages (from pandas->datasets) (2025.2)\n",
      "Requirement already satisfied: tzdata>=2022.7 in /home/kris/Documents/fyp/fyp_env/lib/python3.11/site-packages (from pandas->datasets) (2025.2)\n",
      "Requirement already satisfied: six>=1.5 in /home/kris/Documents/fyp/fyp_env/lib/python3.11/site-packages (from python-dateutil>=2.8.2->pandas->datasets) (1.17.0)\n",
      "Requirement already satisfied: transformers in /home/kris/Documents/fyp/fyp_env/lib/python3.11/site-packages (4.52.3)\n",
      "Requirement already satisfied: filelock in /home/kris/Documents/fyp/fyp_env/lib/python3.11/site-packages (from transformers) (3.18.0)\n",
      "Requirement already satisfied: huggingface-hub<1.0,>=0.30.0 in /home/kris/Documents/fyp/fyp_env/lib/python3.11/site-packages (from transformers) (0.32.1)\n",
      "Requirement already satisfied: numpy>=1.17 in /home/kris/Documents/fyp/fyp_env/lib/python3.11/site-packages (from transformers) (1.24.4)\n",
      "Requirement already satisfied: packaging>=20.0 in /home/kris/Documents/fyp/fyp_env/lib/python3.11/site-packages (from transformers) (24.2)\n",
      "Requirement already satisfied: pyyaml>=5.1 in /home/kris/Documents/fyp/fyp_env/lib/python3.11/site-packages (from transformers) (6.0.2)\n",
      "Requirement already satisfied: regex!=2019.12.17 in /home/kris/Documents/fyp/fyp_env/lib/python3.11/site-packages (from transformers) (2024.11.6)\n",
      "Requirement already satisfied: requests in /home/kris/Documents/fyp/fyp_env/lib/python3.11/site-packages (from transformers) (2.32.3)\n",
      "Requirement already satisfied: tokenizers<0.22,>=0.21 in /home/kris/Documents/fyp/fyp_env/lib/python3.11/site-packages (from transformers) (0.21.1)\n",
      "Requirement already satisfied: safetensors>=0.4.3 in /home/kris/Documents/fyp/fyp_env/lib/python3.11/site-packages (from transformers) (0.5.3)\n",
      "Requirement already satisfied: tqdm>=4.27 in /home/kris/Documents/fyp/fyp_env/lib/python3.11/site-packages (from transformers) (4.67.1)\n",
      "Requirement already satisfied: fsspec>=2023.5.0 in /home/kris/Documents/fyp/fyp_env/lib/python3.11/site-packages (from huggingface-hub<1.0,>=0.30.0->transformers) (2024.12.0)\n",
      "Requirement already satisfied: typing-extensions>=3.7.4.3 in /home/kris/Documents/fyp/fyp_env/lib/python3.11/site-packages (from huggingface-hub<1.0,>=0.30.0->transformers) (4.13.2)\n",
      "Requirement already satisfied: hf-xet<2.0.0,>=1.1.2 in /home/kris/Documents/fyp/fyp_env/lib/python3.11/site-packages (from huggingface-hub<1.0,>=0.30.0->transformers) (1.1.2)\n",
      "Requirement already satisfied: charset-normalizer<4,>=2 in /home/kris/Documents/fyp/fyp_env/lib/python3.11/site-packages (from requests->transformers) (3.4.2)\n",
      "Requirement already satisfied: idna<4,>=2.5 in /home/kris/Documents/fyp/fyp_env/lib/python3.11/site-packages (from requests->transformers) (3.10)\n",
      "Requirement already satisfied: urllib3<3,>=1.21.1 in /home/kris/Documents/fyp/fyp_env/lib/python3.11/site-packages (from requests->transformers) (2.4.0)\n",
      "Requirement already satisfied: certifi>=2017.4.17 in /home/kris/Documents/fyp/fyp_env/lib/python3.11/site-packages (from requests->transformers) (2025.4.26)\n",
      "Requirement already satisfied: torchaudio in /home/kris/Documents/fyp/fyp_env/lib/python3.11/site-packages (2.7.0)\n",
      "Requirement already satisfied: torch==2.7.0 in /home/kris/Documents/fyp/fyp_env/lib/python3.11/site-packages (from torchaudio) (2.7.0)\n",
      "Requirement already satisfied: filelock in /home/kris/Documents/fyp/fyp_env/lib/python3.11/site-packages (from torch==2.7.0->torchaudio) (3.18.0)\n",
      "Requirement already satisfied: typing-extensions>=4.10.0 in /home/kris/Documents/fyp/fyp_env/lib/python3.11/site-packages (from torch==2.7.0->torchaudio) (4.13.2)\n",
      "Requirement already satisfied: sympy>=1.13.3 in /home/kris/Documents/fyp/fyp_env/lib/python3.11/site-packages (from torch==2.7.0->torchaudio) (1.14.0)\n",
      "Requirement already satisfied: networkx in /home/kris/Documents/fyp/fyp_env/lib/python3.11/site-packages (from torch==2.7.0->torchaudio) (3.4.2)\n",
      "Requirement already satisfied: jinja2 in /home/kris/Documents/fyp/fyp_env/lib/python3.11/site-packages (from torch==2.7.0->torchaudio) (3.1.6)\n",
      "Requirement already satisfied: fsspec in /home/kris/Documents/fyp/fyp_env/lib/python3.11/site-packages (from torch==2.7.0->torchaudio) (2024.12.0)\n",
      "Requirement already satisfied: nvidia-cuda-nvrtc-cu12==12.6.77 in /home/kris/Documents/fyp/fyp_env/lib/python3.11/site-packages (from torch==2.7.0->torchaudio) (12.6.77)\n",
      "Requirement already satisfied: nvidia-cuda-runtime-cu12==12.6.77 in /home/kris/Documents/fyp/fyp_env/lib/python3.11/site-packages (from torch==2.7.0->torchaudio) (12.6.77)\n",
      "Requirement already satisfied: nvidia-cuda-cupti-cu12==12.6.80 in /home/kris/Documents/fyp/fyp_env/lib/python3.11/site-packages (from torch==2.7.0->torchaudio) (12.6.80)\n",
      "Requirement already satisfied: nvidia-cudnn-cu12==9.5.1.17 in /home/kris/Documents/fyp/fyp_env/lib/python3.11/site-packages (from torch==2.7.0->torchaudio) (9.5.1.17)\n",
      "Requirement already satisfied: nvidia-cublas-cu12==12.6.4.1 in /home/kris/Documents/fyp/fyp_env/lib/python3.11/site-packages (from torch==2.7.0->torchaudio) (12.6.4.1)\n",
      "Requirement already satisfied: nvidia-cufft-cu12==11.3.0.4 in /home/kris/Documents/fyp/fyp_env/lib/python3.11/site-packages (from torch==2.7.0->torchaudio) (11.3.0.4)\n",
      "Requirement already satisfied: nvidia-curand-cu12==10.3.7.77 in /home/kris/Documents/fyp/fyp_env/lib/python3.11/site-packages (from torch==2.7.0->torchaudio) (10.3.7.77)\n",
      "Requirement already satisfied: nvidia-cusolver-cu12==11.7.1.2 in /home/kris/Documents/fyp/fyp_env/lib/python3.11/site-packages (from torch==2.7.0->torchaudio) (11.7.1.2)\n",
      "Requirement already satisfied: nvidia-cusparse-cu12==12.5.4.2 in /home/kris/Documents/fyp/fyp_env/lib/python3.11/site-packages (from torch==2.7.0->torchaudio) (12.5.4.2)\n",
      "Requirement already satisfied: nvidia-cusparselt-cu12==0.6.3 in /home/kris/Documents/fyp/fyp_env/lib/python3.11/site-packages (from torch==2.7.0->torchaudio) (0.6.3)\n",
      "Requirement already satisfied: nvidia-nccl-cu12==2.26.2 in /home/kris/Documents/fyp/fyp_env/lib/python3.11/site-packages (from torch==2.7.0->torchaudio) (2.26.2)\n",
      "Requirement already satisfied: nvidia-nvtx-cu12==12.6.77 in /home/kris/Documents/fyp/fyp_env/lib/python3.11/site-packages (from torch==2.7.0->torchaudio) (12.6.77)\n",
      "Requirement already satisfied: nvidia-nvjitlink-cu12==12.6.85 in /home/kris/Documents/fyp/fyp_env/lib/python3.11/site-packages (from torch==2.7.0->torchaudio) (12.6.85)\n",
      "Requirement already satisfied: nvidia-cufile-cu12==1.11.1.6 in /home/kris/Documents/fyp/fyp_env/lib/python3.11/site-packages (from torch==2.7.0->torchaudio) (1.11.1.6)\n",
      "Requirement already satisfied: triton==3.3.0 in /home/kris/Documents/fyp/fyp_env/lib/python3.11/site-packages (from torch==2.7.0->torchaudio) (3.3.0)\n",
      "Requirement already satisfied: setuptools>=40.8.0 in /home/kris/Documents/fyp/fyp_env/lib/python3.11/site-packages (from triton==3.3.0->torch==2.7.0->torchaudio) (80.8.0)\n",
      "Requirement already satisfied: mpmath<1.4,>=1.1.0 in /home/kris/Documents/fyp/fyp_env/lib/python3.11/site-packages (from sympy>=1.13.3->torch==2.7.0->torchaudio) (1.3.0)\n",
      "Requirement already satisfied: MarkupSafe>=2.0 in /home/kris/Documents/fyp/fyp_env/lib/python3.11/site-packages (from jinja2->torch==2.7.0->torchaudio) (3.0.2)\n",
      "Requirement already satisfied: librosa in /home/kris/Documents/fyp/fyp_env/lib/python3.11/site-packages (0.11.0)\n",
      "Requirement already satisfied: audioread>=2.1.9 in /home/kris/Documents/fyp/fyp_env/lib/python3.11/site-packages (from librosa) (3.0.1)\n",
      "Requirement already satisfied: numba>=0.51.0 in /home/kris/Documents/fyp/fyp_env/lib/python3.11/site-packages (from librosa) (0.61.0)\n",
      "Requirement already satisfied: numpy>=1.22.3 in /home/kris/Documents/fyp/fyp_env/lib/python3.11/site-packages (from librosa) (1.24.4)\n",
      "Requirement already satisfied: scipy>=1.6.0 in /home/kris/Documents/fyp/fyp_env/lib/python3.11/site-packages (from librosa) (1.15.3)\n",
      "Requirement already satisfied: scikit-learn>=1.1.0 in /home/kris/Documents/fyp/fyp_env/lib/python3.11/site-packages (from librosa) (1.6.1)\n",
      "Requirement already satisfied: joblib>=1.0 in /home/kris/Documents/fyp/fyp_env/lib/python3.11/site-packages (from librosa) (1.5.0)\n",
      "Requirement already satisfied: decorator>=4.3.0 in /home/kris/Documents/fyp/fyp_env/lib/python3.11/site-packages (from librosa) (5.2.1)\n",
      "Requirement already satisfied: soundfile>=0.12.1 in /home/kris/Documents/fyp/fyp_env/lib/python3.11/site-packages (from librosa) (0.13.1)\n",
      "Requirement already satisfied: pooch>=1.1 in /home/kris/Documents/fyp/fyp_env/lib/python3.11/site-packages (from librosa) (1.8.2)\n",
      "Requirement already satisfied: soxr>=0.3.2 in /home/kris/Documents/fyp/fyp_env/lib/python3.11/site-packages (from librosa) (0.5.0.post1)\n",
      "Requirement already satisfied: typing_extensions>=4.1.1 in /home/kris/Documents/fyp/fyp_env/lib/python3.11/site-packages (from librosa) (4.13.2)\n",
      "Requirement already satisfied: lazy_loader>=0.1 in /home/kris/Documents/fyp/fyp_env/lib/python3.11/site-packages (from librosa) (0.4)\n",
      "Requirement already satisfied: msgpack>=1.0 in /home/kris/Documents/fyp/fyp_env/lib/python3.11/site-packages (from librosa) (1.1.0)\n",
      "Requirement already satisfied: packaging in /home/kris/Documents/fyp/fyp_env/lib/python3.11/site-packages (from lazy_loader>=0.1->librosa) (24.2)\n",
      "Requirement already satisfied: llvmlite<0.45,>=0.44.0dev0 in /home/kris/Documents/fyp/fyp_env/lib/python3.11/site-packages (from numba>=0.51.0->librosa) (0.44.0)\n",
      "Requirement already satisfied: platformdirs>=2.5.0 in /home/kris/Documents/fyp/fyp_env/lib/python3.11/site-packages (from pooch>=1.1->librosa) (4.3.8)\n",
      "Requirement already satisfied: requests>=2.19.0 in /home/kris/Documents/fyp/fyp_env/lib/python3.11/site-packages (from pooch>=1.1->librosa) (2.32.3)\n",
      "Requirement already satisfied: charset-normalizer<4,>=2 in /home/kris/Documents/fyp/fyp_env/lib/python3.11/site-packages (from requests>=2.19.0->pooch>=1.1->librosa) (3.4.2)\n",
      "Requirement already satisfied: idna<4,>=2.5 in /home/kris/Documents/fyp/fyp_env/lib/python3.11/site-packages (from requests>=2.19.0->pooch>=1.1->librosa) (3.10)\n",
      "Requirement already satisfied: urllib3<3,>=1.21.1 in /home/kris/Documents/fyp/fyp_env/lib/python3.11/site-packages (from requests>=2.19.0->pooch>=1.1->librosa) (2.4.0)\n",
      "Requirement already satisfied: certifi>=2017.4.17 in /home/kris/Documents/fyp/fyp_env/lib/python3.11/site-packages (from requests>=2.19.0->pooch>=1.1->librosa) (2025.4.26)\n",
      "Requirement already satisfied: threadpoolctl>=3.1.0 in /home/kris/Documents/fyp/fyp_env/lib/python3.11/site-packages (from scikit-learn>=1.1.0->librosa) (3.6.0)\n",
      "Requirement already satisfied: cffi>=1.0 in /home/kris/Documents/fyp/fyp_env/lib/python3.11/site-packages (from soundfile>=0.12.1->librosa) (1.17.1)\n",
      "Requirement already satisfied: pycparser in /home/kris/Documents/fyp/fyp_env/lib/python3.11/site-packages (from cffi>=1.0->soundfile>=0.12.1->librosa) (2.22)\n",
      "Requirement already satisfied: jiwer in /home/kris/Documents/fyp/fyp_env/lib/python3.11/site-packages (3.1.0)\n",
      "Requirement already satisfied: click>=8.1.8 in /home/kris/Documents/fyp/fyp_env/lib/python3.11/site-packages (from jiwer) (8.1.8)\n",
      "Requirement already satisfied: rapidfuzz>=3.9.7 in /home/kris/Documents/fyp/fyp_env/lib/python3.11/site-packages (from jiwer) (3.13.0)\n"
     ]
    },
    {
     "name": "stdout",
     "output_type": "stream",
     "text": [
      "Requirement already satisfied: filelock in /home/kris/Documents/fyp/fyp_artefact/fyp_env/lib/python3.12/site-packages (from torch==2.7.0->torchaudio) (3.18.0)\n",
      "Requirement already satisfied: typing-extensions>=4.10.0 in /home/kris/Documents/fyp/fyp_artefact/fyp_env/lib/python3.12/site-packages (from torch==2.7.0->torchaudio) (4.13.2)\n",
      "Requirement already satisfied: setuptools in /home/kris/Documents/fyp/fyp_artefact/fyp_env/lib/python3.12/site-packages (from torch==2.7.0->torchaudio) (80.3.1)\n",
      "Requirement already satisfied: sympy>=1.13.3 in /home/kris/Documents/fyp/fyp_artefact/fyp_env/lib/python3.12/site-packages (from torch==2.7.0->torchaudio) (1.14.0)\n",
      "Requirement already satisfied: networkx in /home/kris/Documents/fyp/fyp_artefact/fyp_env/lib/python3.12/site-packages (from torch==2.7.0->torchaudio) (3.4.2)\n",
      "Requirement already satisfied: jinja2 in /home/kris/Documents/fyp/fyp_artefact/fyp_env/lib/python3.12/site-packages (from torch==2.7.0->torchaudio) (3.1.6)\n",
      "Requirement already satisfied: fsspec in /home/kris/Documents/fyp/fyp_artefact/fyp_env/lib/python3.12/site-packages (from torch==2.7.0->torchaudio) (2025.3.0)\n",
      "Requirement already satisfied: nvidia-cuda-nvrtc-cu12==12.6.77 in /home/kris/Documents/fyp/fyp_artefact/fyp_env/lib/python3.12/site-packages (from torch==2.7.0->torchaudio) (12.6.77)\n",
      "Requirement already satisfied: nvidia-cuda-runtime-cu12==12.6.77 in /home/kris/Documents/fyp/fyp_artefact/fyp_env/lib/python3.12/site-packages (from torch==2.7.0->torchaudio) (12.6.77)\n",
      "Requirement already satisfied: nvidia-cuda-cupti-cu12==12.6.80 in /home/kris/Documents/fyp/fyp_artefact/fyp_env/lib/python3.12/site-packages (from torch==2.7.0->torchaudio) (12.6.80)\n",
      "Requirement already satisfied: nvidia-cudnn-cu12==9.5.1.17 in /home/kris/Documents/fyp/fyp_artefact/fyp_env/lib/python3.12/site-packages (from torch==2.7.0->torchaudio) (9.5.1.17)\n",
      "Requirement already satisfied: nvidia-cublas-cu12==12.6.4.1 in /home/kris/Documents/fyp/fyp_artefact/fyp_env/lib/python3.12/site-packages (from torch==2.7.0->torchaudio) (12.6.4.1)\n",
      "Requirement already satisfied: nvidia-cufft-cu12==11.3.0.4 in /home/kris/Documents/fyp/fyp_artefact/fyp_env/lib/python3.12/site-packages (from torch==2.7.0->torchaudio) (11.3.0.4)\n",
      "Requirement already satisfied: nvidia-curand-cu12==10.3.7.77 in /home/kris/Documents/fyp/fyp_artefact/fyp_env/lib/python3.12/site-packages (from torch==2.7.0->torchaudio) (10.3.7.77)\n",
      "Requirement already satisfied: nvidia-cusolver-cu12==11.7.1.2 in /home/kris/Documents/fyp/fyp_artefact/fyp_env/lib/python3.12/site-packages (from torch==2.7.0->torchaudio) (11.7.1.2)\n",
      "Requirement already satisfied: nvidia-cusparse-cu12==12.5.4.2 in /home/kris/Documents/fyp/fyp_artefact/fyp_env/lib/python3.12/site-packages (from torch==2.7.0->torchaudio) (12.5.4.2)\n",
      "Requirement already satisfied: nvidia-cusparselt-cu12==0.6.3 in /home/kris/Documents/fyp/fyp_artefact/fyp_env/lib/python3.12/site-packages (from torch==2.7.0->torchaudio) (0.6.3)\n",
      "Requirement already satisfied: nvidia-nccl-cu12==2.26.2 in /home/kris/Documents/fyp/fyp_artefact/fyp_env/lib/python3.12/site-packages (from torch==2.7.0->torchaudio) (2.26.2)\n",
      "Requirement already satisfied: nvidia-nvtx-cu12==12.6.77 in /home/kris/Documents/fyp/fyp_artefact/fyp_env/lib/python3.12/site-packages (from torch==2.7.0->torchaudio) (12.6.77)\n",
      "Requirement already satisfied: nvidia-nvjitlink-cu12==12.6.85 in /home/kris/Documents/fyp/fyp_artefact/fyp_env/lib/python3.12/site-packages (from torch==2.7.0->torchaudio) (12.6.85)\n",
      "Requirement already satisfied: nvidia-cufile-cu12==1.11.1.6 in /home/kris/Documents/fyp/fyp_artefact/fyp_env/lib/python3.12/site-packages (from torch==2.7.0->torchaudio) (1.11.1.6)\n",
      "Requirement already satisfied: triton==3.3.0 in /home/kris/Documents/fyp/fyp_artefact/fyp_env/lib/python3.12/site-packages (from torch==2.7.0->torchaudio) (3.3.0)\n",
      "Requirement already satisfied: mpmath<1.4,>=1.1.0 in /home/kris/Documents/fyp/fyp_artefact/fyp_env/lib/python3.12/site-packages (from sympy>=1.13.3->torch==2.7.0->torchaudio) (1.3.0)\n",
      "Requirement already satisfied: MarkupSafe>=2.0 in /home/kris/Documents/fyp/fyp_artefact/fyp_env/lib/python3.12/site-packages (from jinja2->torch==2.7.0->torchaudio) (3.0.2)\n",
      "\n",
      "\u001b[1m[\u001b[0m\u001b[34;49mnotice\u001b[0m\u001b[1;39;49m]\u001b[0m\u001b[39;49m A new release of pip is available: \u001b[0m\u001b[31;49m24.0\u001b[0m\u001b[39;49m -> \u001b[0m\u001b[32;49m25.1.1\u001b[0m\n",
      "\u001b[1m[\u001b[0m\u001b[34;49mnotice\u001b[0m\u001b[1;39;49m]\u001b[0m\u001b[39;49m To update, run: \u001b[0m\u001b[32;49mpip install --upgrade pip\u001b[0m\n",
      "Requirement already satisfied: librosa in /home/kris/Documents/fyp/fyp_artefact/fyp_env/lib/python3.12/site-packages (0.11.0)\n",
      "Requirement already satisfied: audioread>=2.1.9 in /home/kris/Documents/fyp/fyp_artefact/fyp_env/lib/python3.12/site-packages (from librosa) (3.0.1)\n",
      "Requirement already satisfied: numba>=0.51.0 in /home/kris/Documents/fyp/fyp_artefact/fyp_env/lib/python3.12/site-packages (from librosa) (0.61.2)\n",
      "Requirement already satisfied: numpy>=1.22.3 in /home/kris/Documents/fyp/fyp_artefact/fyp_env/lib/python3.12/site-packages (from librosa) (2.2.5)\n",
      "Requirement already satisfied: scipy>=1.6.0 in /home/kris/Documents/fyp/fyp_artefact/fyp_env/lib/python3.12/site-packages (from librosa) (1.15.2)\n",
      "Requirement already satisfied: scikit-learn>=1.1.0 in /home/kris/Documents/fyp/fyp_artefact/fyp_env/lib/python3.12/site-packages (from librosa) (1.6.1)\n",
      "Requirement already satisfied: joblib>=1.0 in /home/kris/Documents/fyp/fyp_artefact/fyp_env/lib/python3.12/site-packages (from librosa) (1.5.0)\n",
      "Requirement already satisfied: decorator>=4.3.0 in /home/kris/Documents/fyp/fyp_artefact/fyp_env/lib/python3.12/site-packages (from librosa) (5.2.1)\n",
      "Requirement already satisfied: soundfile>=0.12.1 in /home/kris/Documents/fyp/fyp_artefact/fyp_env/lib/python3.12/site-packages (from librosa) (0.13.1)\n",
      "Requirement already satisfied: pooch>=1.1 in /home/kris/Documents/fyp/fyp_artefact/fyp_env/lib/python3.12/site-packages (from librosa) (1.8.2)\n",
      "Requirement already satisfied: soxr>=0.3.2 in /home/kris/Documents/fyp/fyp_artefact/fyp_env/lib/python3.12/site-packages (from librosa) (0.5.0.post1)\n",
      "Requirement already satisfied: typing_extensions>=4.1.1 in /home/kris/Documents/fyp/fyp_artefact/fyp_env/lib/python3.12/site-packages (from librosa) (4.13.2)\n",
      "Requirement already satisfied: lazy_loader>=0.1 in /home/kris/Documents/fyp/fyp_artefact/fyp_env/lib/python3.12/site-packages (from librosa) (0.4)\n",
      "Requirement already satisfied: msgpack>=1.0 in /home/kris/Documents/fyp/fyp_artefact/fyp_env/lib/python3.12/site-packages (from librosa) (1.1.0)\n",
      "Requirement already satisfied: packaging in /home/kris/Documents/fyp/fyp_artefact/fyp_env/lib/python3.12/site-packages (from lazy_loader>=0.1->librosa) (25.0)\n",
      "Requirement already satisfied: llvmlite<0.45,>=0.44.0dev0 in /home/kris/Documents/fyp/fyp_artefact/fyp_env/lib/python3.12/site-packages (from numba>=0.51.0->librosa) (0.44.0)\n",
      "Requirement already satisfied: platformdirs>=2.5.0 in /home/kris/Documents/fyp/fyp_artefact/fyp_env/lib/python3.12/site-packages (from pooch>=1.1->librosa) (4.3.7)\n",
      "Requirement already satisfied: requests>=2.19.0 in /home/kris/Documents/fyp/fyp_artefact/fyp_env/lib/python3.12/site-packages (from pooch>=1.1->librosa) (2.32.3)\n",
      "Requirement already satisfied: threadpoolctl>=3.1.0 in /home/kris/Documents/fyp/fyp_artefact/fyp_env/lib/python3.12/site-packages (from scikit-learn>=1.1.0->librosa) (3.6.0)\n",
      "Requirement already satisfied: cffi>=1.0 in /home/kris/Documents/fyp/fyp_artefact/fyp_env/lib/python3.12/site-packages (from soundfile>=0.12.1->librosa) (1.17.1)\n",
      "Requirement already satisfied: pycparser in /home/kris/Documents/fyp/fyp_artefact/fyp_env/lib/python3.12/site-packages (from cffi>=1.0->soundfile>=0.12.1->librosa) (2.22)\n",
      "Requirement already satisfied: charset-normalizer<4,>=2 in /home/kris/Documents/fyp/fyp_artefact/fyp_env/lib/python3.12/site-packages (from requests>=2.19.0->pooch>=1.1->librosa) (3.4.2)\n",
      "Requirement already satisfied: idna<4,>=2.5 in /home/kris/Documents/fyp/fyp_artefact/fyp_env/lib/python3.12/site-packages (from requests>=2.19.0->pooch>=1.1->librosa) (3.10)\n",
      "Requirement already satisfied: urllib3<3,>=1.21.1 in /home/kris/Documents/fyp/fyp_artefact/fyp_env/lib/python3.12/site-packages (from requests>=2.19.0->pooch>=1.1->librosa) (2.4.0)\n",
      "Requirement already satisfied: certifi>=2017.4.17 in /home/kris/Documents/fyp/fyp_artefact/fyp_env/lib/python3.12/site-packages (from requests>=2.19.0->pooch>=1.1->librosa) (2025.4.26)\n"
     ]
    },
    {
     "name": "stdout",
     "output_type": "stream",
     "text": [
      "\n",
      "\u001b[1m[\u001b[0m\u001b[34;49mnotice\u001b[0m\u001b[1;39;49m]\u001b[0m\u001b[39;49m A new release of pip is available: \u001b[0m\u001b[31;49m24.0\u001b[0m\u001b[39;49m -> \u001b[0m\u001b[32;49m25.1.1\u001b[0m\n",
      "\u001b[1m[\u001b[0m\u001b[34;49mnotice\u001b[0m\u001b[1;39;49m]\u001b[0m\u001b[39;49m To update, run: \u001b[0m\u001b[32;49mpip install --upgrade pip\u001b[0m\n",
      "Requirement already satisfied: jiwer in /home/kris/Documents/fyp/fyp_artefact/fyp_env/lib/python3.12/site-packages (3.1.0)\n",
      "Requirement already satisfied: click>=8.1.8 in /home/kris/Documents/fyp/fyp_artefact/fyp_env/lib/python3.12/site-packages (from jiwer) (8.1.8)\n",
      "Requirement already satisfied: rapidfuzz>=3.9.7 in /home/kris/Documents/fyp/fyp_artefact/fyp_env/lib/python3.12/site-packages (from jiwer) (3.13.0)\n",
      "\n",
      "\u001b[1m[\u001b[0m\u001b[34;49mnotice\u001b[0m\u001b[1;39;49m]\u001b[0m\u001b[39;49m A new release of pip is available: \u001b[0m\u001b[31;49m24.0\u001b[0m\u001b[39;49m -> \u001b[0m\u001b[32;49m25.1.1\u001b[0m\n",
      "\u001b[1m[\u001b[0m\u001b[34;49mnotice\u001b[0m\u001b[1;39;49m]\u001b[0m\u001b[39;49m To update, run: \u001b[0m\u001b[32;49mpip install --upgrade pip\u001b[0m\n"
     ]
    }
   ],
   "source": [
    "#!pip install fairseq #for finetuning\\\n",
    "!pip install --upgrade datasets\n",
    "!pip install transformers\n",
    "!pip install torchaudio\n",
    "!pip install librosa\n",
    "!pip install jiwer"
   ]
  },
  {
   "cell_type": "code",
   "execution_count": 3,
   "metadata": {
    "executionInfo": {
     "elapsed": 25643,
     "status": "ok",
     "timestamp": 1746580659987,
     "user": {
      "displayName": "Kristeen Chase",
      "userId": "06112654503790926343"
     },
     "user_tz": 240
    },
    "id": "QEj0qmtTzkNk"
   },
   "outputs": [],
   "source": [
    "import torch"
   ]
  },
  {
   "cell_type": "code",
   "execution_count": 4,
   "metadata": {
    "executionInfo": {
     "elapsed": 1135,
     "status": "ok",
     "timestamp": 1746580661119,
     "user": {
      "displayName": "Kristeen Chase",
      "userId": "06112654503790926343"
     },
     "user_tz": 240
    },
    "id": "rrIKp4A8zHwg"
   },
   "outputs": [
    {
     "data": {
      "application/vnd.jupyter.widget-view+json": {
       "model_id": "a2fa126a4c7c467ea4b77e8ac6a9d854",
       "version_major": 2,
       "version_minor": 0
      },
      "text/plain": [
       "preprocessor_config.json:   0%|          | 0.00/159 [00:00<?, ?B/s]"
      ]
     },
     "metadata": {},
     "output_type": "display_data"
    },
    {
     "data": {
      "application/vnd.jupyter.widget-view+json": {
       "model_id": "9a81152a086e48daaa8d09daaa8ce4ec",
       "version_major": 2,
       "version_minor": 0
      },
      "text/plain": [
       "tokenizer_config.json:   0%|          | 0.00/163 [00:00<?, ?B/s]"
      ]
     },
     "metadata": {},
     "output_type": "display_data"
    },
    {
     "name": "stderr",
     "output_type": "stream",
     "text": [
      "/home/kris/Documents/fyp/fyp_env/lib/python3.11/site-packages/transformers/configuration_utils.py:312: UserWarning: Passing `gradient_checkpointing` to a config initialization is deprecated and will be removed in v5 Transformers. Using `model.gradient_checkpointing_enable()` instead, or if you are using the `Trainer` API, pass `gradient_checkpointing=True` in your `TrainingArguments`.\n",
      "  warnings.warn(\n"
     ]
    },
    {
     "data": {
      "application/vnd.jupyter.widget-view+json": {
       "model_id": "9e59d2d0dbe44516ba4066ded6569762",
       "version_major": 2,
       "version_minor": 0
      },
      "text/plain": [
       "vocab.json:   0%|          | 0.00/291 [00:00<?, ?B/s]"
      ]
     },
     "metadata": {},
     "output_type": "display_data"
    },
    {
     "data": {
      "application/vnd.jupyter.widget-view+json": {
       "model_id": "669f0d1c6a914d7ab14d8c924d8f83bc",
       "version_major": 2,
       "version_minor": 0
      },
      "text/plain": [
       "special_tokens_map.json:   0%|          | 0.00/85.0 [00:00<?, ?B/s]"
      ]
     },
     "metadata": {},
     "output_type": "display_data"
    }
   ],
   "source": [
    "from transformers import Wav2Vec2Processor, Wav2Vec2CTCTokenizer, Wav2Vec2FeatureExtractor\n",
    "import json\n",
    "\n",
    "\n",
    "processor = Wav2Vec2Processor.from_pretrained(\"facebook/wav2vec2-base\")\n"
   ]
  },
  {
   "cell_type": "code",
   "execution_count": 5,
   "metadata": {},
   "outputs": [
    {
     "name": "stderr",
     "output_type": "stream",
     "text": [
      "/home/kris/Documents/fyp/fyp_env/lib/python3.11/site-packages/transformers/configuration_utils.py:312: UserWarning: Passing `gradient_checkpointing` to a config initialization is deprecated and will be removed in v5 Transformers. Using `model.gradient_checkpointing_enable()` instead, or if you are using the `Trainer` API, pass `gradient_checkpointing=True` in your `TrainingArguments`.\n",
      "  warnings.warn(\n",
      "Some weights of Wav2Vec2ForCTC were not initialized from the model checkpoint at facebook/wav2vec2-base and are newly initialized: ['lm_head.bias', 'lm_head.weight']\n",
      "You should probably TRAIN this model on a down-stream task to be able to use it for predictions and inference.\n"
     ]
    }
   ],
   "source": [
    "from transformers import Wav2Vec2Processor, Wav2Vec2ForCTC\n",
    "import torchaudio\n",
    "import torch\n",
    "\n",
    "# Load the Wav2Vec2 model (pre-trained but not fine-tuned)\n",
    "model_name = \"facebook/wav2vec2-base\"\n",
    "model = Wav2Vec2ForCTC.from_pretrained(model_name)"
   ]
  },
  {
   "cell_type": "code",
   "execution_count": 6,
   "metadata": {
    "colab": {
     "base_uri": "https://localhost:8080/"
    },
    "executionInfo": {
     "elapsed": 63530,
     "status": "ok",
     "timestamp": 1746581229649,
     "user": {
      "displayName": "Kristeen Chase",
      "userId": "06112654503790926343"
     },
     "user_tz": 240
    },
    "id": "jwUwex560C_F",
    "outputId": "7a5e37d9-a4ee-4b40-82a5-67dd8210628c"
   },
   "outputs": [
    {
     "name": "stdout",
     "output_type": "stream",
     "text": [
      "{'<pad>': 0, '<s>': 1, '</s>': 2, '<unk>': 3, '|': 4, 'E': 5, 'T': 6, 'A': 7, 'O': 8, 'N': 9, 'I': 10, 'H': 11, 'S': 12, 'R': 13, 'D': 14, 'L': 15, 'U': 16, 'M': 17, 'W': 18, 'C': 19, 'F': 20, 'G': 21, 'Y': 22, 'P': 23, 'B': 24, 'V': 25, 'K': 26, \"'\": 27, 'X': 28, 'J': 29, 'Q': 30, 'Z': 31}\n",
      "Transcription: KIKIYGIYBIYIKIHBIKIKIKIKIKIPK IKIKIK KIKIK KIK KIKBK YBPIBHIUJBSBIUBIKUIJBIKYGKIJBKBJ IYR I YU IYR Y KIKYIBYIYKIPUKBIKGIKBE KI I IK EIPUB</s>ILIJBK IPIJNBHIKIKYKBKIPGIYGIKIYBIKIKIKIKIKIPIPKIKIPIKYKIYGIYIPJIJKIGIKIJKGIGBIKLGIKNGIPIPIJYIGBGKPIYGPIPYGPJPYIYG KGIPI YBIKIKPIKPIPKIKIKIKIJPKPIKIPKIKPKIPIPIPKIKIKPEIPIPIPKIK IJYUKIYK KUYKIJIPUKOIKPIJYPIPKY<s>IJBIEVIY PIBEPIPKIKIKIKIKJPKIKIPKIPIPIKIKPGIJIPKPIKIKIKIKIKIKIK</s>K<s>YG PIY KIPIYKIY IJKY KIYIYJI JIEIKIKIYKJIKIGIYBJIUI KIKIKPKPKPEF IKPKIPKIEIKIK VPIYJXUK<s>KHJY UI YPIYKIPGEIKIJIBJA KIKYIYG IPYKIKIKIJBJIKENCYKIYGIGYPJ JIPYGIPIYKIKIKIKPKPIKGIKIKIKPKHBEIKIGKIJBIPIKBJYGPJIPIPIJIJIKYKJIJKYJKIK KIGIPBUKIKIY I IEKIYK K<unk>KIK<unk>K<unk>K IKIKIKIKIK IPJKIYJIYBKIKIJYPG IJIJBIPKIJYKIJIKYIKJPYPJIJIPYGIPKOHYJIYUK KEIYIKIYKPIYKUKIH IPYGJIY JIKIJYIKYJI JIBYKIK KIYIY YKJKI KAKAKZEPKU\n"
     ]
    }
   ],
   "source": [
    "\n",
    "# Load an audio file\n",
    "waveform, sample_rate = torchaudio.load(\"../creolese-audio-dataset/Audio Files/3.wav\")\n",
    "\n",
    "# Convert to 16kHz (Wav2Vec2 requires this)\n",
    "if sample_rate != 16000:\n",
    "    waveform = torchaudio.transforms.Resample(orig_freq=sample_rate, new_freq=16000)(waveform)\n",
    "\n",
    "# Process the audio\n",
    "input_values = processor(waveform.squeeze().numpy(), return_tensors=\"pt\", padding=True, sampling_rate=16000).input_values\n",
    "\n",
    "# Get predictions\n",
    "with torch.no_grad():\n",
    "    logits = model(input_values).logits\n",
    "\n",
    "# Convert predictions to text\n",
    "predicted_ids = torch.argmax(logits, dim=-1)\n",
    "transcription = processor.batch_decode(predicted_ids)\n",
    "\n",
    "print(processor.tokenizer.get_vocab())\n",
    "\n",
    "\n",
    "print(\"Transcription:\", transcription[0])  # Output the text\n"
   ]
  },
  {
   "cell_type": "markdown",
   "metadata": {
    "id": "i6OSQhu1Rcjd"
   },
   "source": [
    "# Load the dataset"
   ]
  },
  {
   "cell_type": "code",
   "execution_count": 7,
   "metadata": {
    "executionInfo": {
     "elapsed": 2,
     "status": "ok",
     "timestamp": 1746580661273,
     "user": {
      "displayName": "Kristeen Chase",
      "userId": "06112654503790926343"
     },
     "user_tz": 240
    },
    "id": "tp-c9B__RrPX"
   },
   "outputs": [],
   "source": [
    "audio_path = \"../creolese-audio-dataset/finetune_eligible\"\n",
    "transcription_path = \"../creolese-audio-dataset/finetune_eligible/transcripts.json\""
   ]
  },
  {
   "cell_type": "markdown",
   "metadata": {
    "id": "tgHp7jnORxW_"
   },
   "source": [
    "# Start compiling the references and hypotheses"
   ]
  },
  {
   "cell_type": "code",
   "execution_count": 8,
   "metadata": {
    "executionInfo": {
     "elapsed": 1140,
     "status": "ok",
     "timestamp": 1746581146849,
     "user": {
      "displayName": "Kristeen Chase",
      "userId": "06112654503790926343"
     },
     "user_tz": 240
    },
    "id": "dq2ye4VZSRda"
   },
   "outputs": [],
   "source": [
    "import os\n",
    "import json\n",
    "import torchaudio\n",
    "import torch\n",
    "from jiwer import wer, cer, mer\n",
    "\n",
    "os.environ['KMP_DUPLICATE_LIB_OK'] = 'True'"
   ]
  },
  {
   "cell_type": "code",
   "execution_count": 9,
   "metadata": {
    "id": "-aksGJ-lRw_5",
    "scrolled": true
   },
   "outputs": [
    {
     "name": "stdout",
     "output_type": "stream",
     "text": [
      "Transcribed: 1a.wav\n",
      "Transcribed: 1b.wav\n",
      "Transcribed: 1c.wav\n",
      "Transcribed: 1d.wav\n",
      "Transcribed: 1e.wav\n",
      "Transcribed: 3a.wav\n",
      "Transcribed: 3b.wav\n",
      "Transcribed: 2.wav\n",
      "Transcribed: 4a.wav\n",
      "Transcribed: 4b.wav\n",
      "Transcribed: 4c.wav\n",
      "Transcribed: 4d.wav\n",
      "Transcribed: 4e.wav\n",
      "Transcribed: 5a.wav\n",
      "Transcribed: 5b.wav\n",
      "Transcribed: 5c.wav\n",
      "Transcribed: 5d.wav\n",
      "Transcribed: 5e.wav\n",
      "Transcribed: 5f.wav\n",
      "Transcribed: 5g.wav\n",
      "Transcribed: 5h.wav\n",
      "Transcribed: 5i.wav\n",
      "Transcribed: 5j.wav\n",
      "Transcribed: 5k.wav\n",
      "Transcribed: 5l.wav\n",
      "Transcribed: 5m.wav\n",
      "Transcribed: 6a.wav\n",
      "Transcribed: 6b.wav\n",
      "Transcribed: 6c.wav\n",
      "Transcribed: 6d.wav\n",
      "Transcribed: 6e.wav\n",
      "Transcribed: 6f.wav\n",
      "Transcribed: 6g.wav\n",
      "Transcribed: 6h.wav\n",
      "Transcribed: 6i.wav\n",
      "Transcribed: 6j.wav\n",
      "Transcribed: 6k.wav\n",
      "Transcribed: 6l.wav\n",
      "Transcribed: 6m.wav\n",
      "Transcribed: 6n.wav\n",
      "Transcribed: 6o.wav\n",
      "Transcribed: 6p.wav\n",
      "Transcribed: 7.wav\n",
      "Transcribed: 8a.wav\n",
      "Transcribed: 8b.wav\n",
      "Transcribed: 8c.wav\n",
      "Transcribed: 8d.wav\n",
      "Transcribed: 8e.wav\n",
      "Transcribed: 8f.wav\n",
      "Transcribed: 8g.wav\n",
      "Transcribed: 8h.wav\n",
      "Transcribed: 8i.wav\n",
      "Transcribed: 8j.wav\n",
      "Transcribed: 8k.wav\n",
      "Transcribed: 9a.wav\n",
      "Transcribed: 9b.wav\n",
      "Transcribed: 10a.wav\n",
      "Transcribed: 10b.wav\n",
      "Transcribed: 11a.wav\n",
      "Transcribed: 11b.wav\n",
      "Transcribed: 11c.wav\n",
      "Transcribed: 12.wav\n",
      "Transcribed: 13.wav\n",
      "Transcribed: 14.wav\n",
      "Transcribed: 15a.wav\n",
      "Transcribed: 15b.wav\n",
      "Transcribed: 16a.wav\n",
      "Transcribed: 16b.wav\n",
      "Transcribed: 16c.wav\n",
      "Transcribed: 17a.wav\n",
      "Transcribed: 17b.wav\n",
      "Transcribed: 17c.wav\n",
      "Transcribed: 17d.wav\n",
      "Transcribed: 18a.wav\n",
      "Transcribed: 18b.wav\n",
      "Transcribed: 18c.wav\n",
      "Transcribed: 18d.wav\n",
      "Transcribed: 18e.wav\n",
      "Transcribed: 18f.wav\n",
      "Transcribed: 18g.wav\n",
      "Transcribed: 18h.wav\n",
      "Transcribed: 18i.wav\n",
      "Transcribed: 18j.wav\n",
      "Transcribed: 18k.wav\n",
      "Transcribed: 18l.wav\n",
      "Transcribed: 18m.wav\n",
      "Transcribed: 18n.wav\n",
      "Transcribed: 18o.wav\n",
      "Transcribed: 18p.wav\n",
      "Transcribed: 18q.wav\n",
      "Transcribed: 18r.wav\n",
      "Transcribed: 18s.wav\n",
      "Transcribed: 18t.wav\n",
      "Transcribed: 18u.wav\n",
      "Transcribed: 18v.wav\n",
      "Transcribed: 18w.wav\n",
      "Transcribed: 18x.wav\n",
      "Transcribed: 18y.wav\n",
      "Transcribed: 18z.wav\n",
      "Transcribed: 18aa.wav\n",
      "Transcribed: 18ab.wav\n",
      "Transcribed: 18ac.wav\n",
      "Transcribed: 18ad.wav\n",
      "Transcribed: 18ae.wav\n",
      "Transcribed: 18f.wav\n",
      "Transcribed: 19a.wav\n",
      "Transcribed: 19b.wav\n",
      "Transcribed: 19c.wav\n",
      "Transcribed: 19d.wav\n",
      "Transcribed: 19e.wav\n",
      "Transcribed: 19f.wav\n",
      "Transcribed: 19g.wav\n",
      "Transcribed: 19h.wav\n",
      "Transcribed: 19i.wav\n",
      "Transcribed: 19j.wav\n",
      "Transcribed: 19k.wav\n",
      "Transcribed: 19l.wav\n",
      "Transcribed: 19m.wav\n",
      "Transcribed: 19n.wav\n",
      "Transcribed: 19o.wav\n",
      "Transcribed: 19p.wav\n",
      "Transcribed: 19q.wav\n",
      "Transcribed: 19r.wav\n",
      "Transcribed: 19s.wav\n",
      "Transcribed: 19t.wav\n",
      "Transcribed: 19u.wav\n",
      "Transcribed: 19v.wav\n",
      "Transcribed: 19w.wav\n",
      "Transcribed: 19x.wav\n",
      "Transcribed: 19y.wav\n",
      "Transcribed: 19z.wav\n",
      "Transcribed: 19aa.wav\n",
      "Transcribed: 19ab.wav\n",
      "Transcribed: 19ac.wav\n",
      "Transcribed: 19ad.wav\n",
      "Transcribed: 20.wav\n",
      "Transcribed: 21.wav\n",
      "Transcribed: 22a.wav\n",
      "Transcribed: 22b.wav\n",
      "Transcribed: 22c.wav\n",
      "Transcribed: 22d.wav\n",
      "Transcribed: 23a.wav\n",
      "Transcribed: 23b.wav\n",
      "Transcribed: 23c.wav\n",
      "Transcribed: 23d.wav\n",
      "Transcribed: 23e.wav\n",
      "Transcribed: 23f.wav\n",
      "Transcribed: 23g.wav\n",
      "Transcribed: 24a.wav\n",
      "Transcribed: 24b.wav\n",
      "Transcribed: 25a.wav\n",
      "Transcribed: 25b.wav\n",
      "Transcribed: 26a.wav\n",
      "Transcribed: 26b.wav\n",
      "Transcribed: 26c.wav\n",
      "Transcribed: 26d.wav\n",
      "Transcribed: 28a.wav\n",
      "Transcribed: 28b.wav\n",
      "Transcribed: 28c.wav\n",
      "Transcribed: 28d.wav\n",
      "Transcribed: 28e.wav\n",
      "Transcribed: 28f.wav\n",
      "Transcribed: 29a.wav\n",
      "Transcribed: 29b.wav\n",
      "Transcribed: 29c.wav\n",
      "Transcribed: 29d.wav\n",
      "Transcribed: 29e.wav\n",
      "Transcribed: 30a.wav\n",
      "Transcribed: 30b.wav\n",
      "Transcribed: 30c.wav\n",
      "Transcribed: 30d.wav\n",
      "Transcribed: 30e.wav\n",
      "Transcribed: 30f.wav\n",
      "Transcribed: 30g.wav\n",
      "Transcribed: 31a.wav\n",
      "Transcribed: 31b.wav\n",
      "Transcribed: 31c.wav\n",
      "Transcribed: 31d.wav\n",
      "Transcribed: 32a.wav\n",
      "Transcribed: 32b.wav\n",
      "Transcribed: 32c.wav\n",
      "Transcribed: 32d.wav\n",
      "Transcribed: 35a.wav\n",
      "Transcribed: 35b.wav\n",
      "Transcribed: 27.wav\n",
      "Transcribed: 42a.wav\n",
      "Transcribed: 42b.wav\n",
      "Transcribed: 42c.wav\n",
      "Transcribed: 43a.wav\n",
      "Transcribed: 43b.wav\n",
      "Transcribed: 43c.wav\n",
      "Transcribed: 44a.wav\n",
      "Transcribed: 44b.wav\n",
      "Transcribed: 44c.wav\n",
      "Transcribed: 44d.wav\n",
      "Transcribed: 44e.wav\n",
      "Transcribed: 44f.wav\n",
      "Transcribed: 44g.wav\n",
      "Transcribed: 44h.wav\n",
      "Transcribed: 44i.wav\n",
      "Transcribed: 44j.wav\n",
      "Transcribed: 44k.wav\n",
      "Transcribed: 44l.wav\n",
      "Transcribed: 45a.wav\n",
      "Transcribed: 45b.wav\n",
      "Transcribed: 45c.wav\n",
      "Transcribed: 45d.wav\n",
      "Transcribed: 46a.wav\n",
      "Transcribed: 46b.wav\n",
      "Transcribed: 46c.wav\n",
      "Transcribed: 46d.wav\n",
      "Transcribed: 46e.wav\n",
      "Transcribed: 46f.wav\n",
      "Transcribed: 46g.wav\n",
      "Transcribed: 46h.wav\n",
      "Transcribed: 46i.wav\n",
      "Transcribed: 46j.wav\n",
      "Transcribed: 46k.wav\n",
      "Transcribed: 46l.wav\n",
      "Transcribed: 46m.wav\n",
      "Transcribed: 46n.wav\n",
      "Transcribed: 46o.wav\n",
      "Transcribed: 46p.wav\n",
      "Transcribed: 46q.wav\n",
      "Transcribed: 46r.wav\n",
      "Transcribed: 46s.wav\n",
      "Transcribed: 46t.wav\n",
      "Transcribed: 48a.wav\n",
      "Transcribed: 48b.wav\n",
      "Transcribed: 48c.wav\n",
      "Transcribed: 48d.wav\n",
      "Transcribed: 49a.wav\n",
      "Transcribed: 49b.wav\n",
      "Transcribed: 49c.wav\n",
      "Transcribed: 49d.wav\n",
      "Transcribed: 49e.wav\n",
      "Transcribed: 49f.wav\n",
      "Transcribed: 49g.wav\n",
      "Transcribed: 49h.wav\n",
      "Transcribed: 49i.wav\n",
      "Transcribed: 49j.wav\n",
      "Transcribed: 50a.wav\n",
      "Transcribed: 50b.wav\n",
      "Transcribed: 50c.wav\n",
      "Transcribed: 50d.wav\n",
      "Transcribed: 50e.wav\n",
      "Transcribed: 52a.wav\n",
      "Transcribed: 52b.wav\n",
      "Transcribed: 52c.wav\n",
      "Transcribed: 53a.wav\n",
      "Transcribed: 53b.wav\n",
      "Transcribed: 53c.wav\n",
      "Transcribed: 33.wav\n",
      "Transcribed: 34.wav\n",
      "Transcribed: 36.wav\n",
      "Transcribed: ./41.wav\n",
      "Transcribed: ./47.wav\n",
      "Transcribed: 51.wav\n",
      "Transcribed: ./56.wav\n",
      "Transcribed: ./57.wav\n",
      "Transcribed: ./60.wav\n",
      "Transcribed: ./62.wav\n",
      "Transcribed: ./63.wav\n",
      "Transcribed: ./64.wav\n",
      "Transcribed: ./68.wav\n"
     ]
    }
   ],
   "source": [
    "\n",
    "with open(transcription_path, \"r\") as f:\n",
    "    dataset = json.load(f)\n",
    "\n",
    "predictions = []\n",
    "ground_truths = []\n",
    "device = \"cpu\"\n",
    "for item in dataset:  # your dataset is a list of {audio, text, language}\n",
    "        # Load audio file\n",
    "    waveform, sample_rate = torchaudio.load(f'./{audio_path}/{item[\"audio\"]}')\n",
    "\n",
    "    # Convert to 16kHz (Wav2Vec2 requires this)\n",
    "    if sample_rate != 16000:\n",
    "        waveform = torchaudio.transforms.Resample(orig_freq=sample_rate, new_freq=16000)(waveform)\n",
    "    try:\n",
    "        \n",
    "        # Process the audio\n",
    "        input_values = processor(waveform.squeeze().numpy(), return_tensors=\"pt\", padding=True, sampling_rate=16000).input_values\n",
    "        \n",
    "        # Get predictions\n",
    "        with torch.no_grad():\n",
    "            logits = model(input_values).logits\n",
    "    \n",
    "        predicted_ids = torch.argmax(logits, dim=-1)\n",
    "        predicted_text = processor.batch_decode(predicted_ids, skip_special_tokens=True)[0]\n",
    "        print(f'Transcribed: {item[\"audio\"]}')\n",
    "\n",
    "    except Exception as e:\n",
    "        print(f\"Exception: {e}\")\n",
    "    \n",
    "    \n",
    "    predictions.append(predicted_text)\n",
    "    ground_truths.append(item[\"text\"])\n",
    "    \n",
    "    # Manually clear memory each iteration\n",
    "    del input_values, predicted_ids\n",
    "    import gc; gc.collect()\n"
   ]
  },
  {
   "cell_type": "code",
   "execution_count": 10,
   "metadata": {},
   "outputs": [],
   "source": [
    "\n",
    "output_data = [{\"ref\": ref, \"hyp\": hyp} for ref, hyp in zip(ground_truths, predictions)]\n",
    "\n",
    "with open(\"../pretrained_predictions/wav2vec2_pretrain_predictions.json\", \"w\") as out_file:\n",
    "    json.dump(output_data, out_file, indent=4)"
   ]
  },
  {
   "cell_type": "code",
   "execution_count": 11,
   "metadata": {},
   "outputs": [],
   "source": [
    "import json\n",
    "import jiwer\n",
    "\n",
    "# === STEP 1: LOAD JSON ===\n",
    "with open(\"wav2vec2_pretrain_predictions.json\", \"r\") as f:\n",
    "    data = json.load(f)\n",
    "\n",
    "ground_truth = [entry['ref'] for entry in data]\n",
    "predictions = [entry['hyp'] for entry in data]     "
   ]
  },
  {
   "cell_type": "code",
   "execution_count": 12,
   "metadata": {},
   "outputs": [
    {
     "name": "stdout",
     "output_type": "stream",
     "text": [
      "WER: 0.9329\n",
      "CER: 0.4517\n",
      "MER: 0.9016\n"
     ]
    }
   ],
   "source": [
    "\n",
    "def custom_transform(text):\n",
    "    # Convert to lowercase\n",
    "    text = text.lower()\n",
    "    # Remove punctuation (basic approach)\n",
    "    for char in \",.:;!?\\\"'()[]{}\":\n",
    "        text = text.replace(char, \"\")\n",
    "    # Remove extra spaces\n",
    "    text = \" \".join(text.split())\n",
    "    return text\n",
    "\n",
    "# Apply transformation to each text individually\n",
    "ground_truth_transformed = [custom_transform(text) for text in ground_truth]\n",
    "predictions_transformed = [custom_transform(text) for text in predictions]\n",
    "\n",
    "# === STEP 4: COMPUTE METRICS ===\n",
    "wer = jiwer.wer(ground_truth_transformed, predictions_transformed)\n",
    "cer = jiwer.cer(ground_truth_transformed, predictions_transformed)\n",
    "mer = jiwer.mer(ground_truth_transformed, predictions_transformed)\n",
    "\n",
    "# === STEP 5: PRINT ===\n",
    "print(f\"WER: {wer:.4f}\")\n",
    "print(f\"CER: {cer:.4f}\")\n",
    "print(f\"MER: {mer:.4f}\")\n",
    "\n"
   ]
  }
 ],
 "metadata": {
  "colab": {
   "authorship_tag": "ABX9TyPLVJJ1ADVF8gE2DPPTRWww",
   "mount_file_id": "1hIDkdBYIQzb4Ph2iT5rosfSbLj0bBbur",
   "provenance": []
  },
  "kernelspec": {
   "display_name": "Python 3 (ipykernel)",
   "language": "python",
   "name": "python3"
  },
  "language_info": {
   "codemirror_mode": {
    "name": "ipython",
    "version": 3
   },
   "file_extension": ".py",
   "mimetype": "text/x-python",
   "name": "python",
   "nbconvert_exporter": "python",
   "pygments_lexer": "ipython3",
   "version": "3.11.12"
  }
 },
 "nbformat": 4,
 "nbformat_minor": 4
}
