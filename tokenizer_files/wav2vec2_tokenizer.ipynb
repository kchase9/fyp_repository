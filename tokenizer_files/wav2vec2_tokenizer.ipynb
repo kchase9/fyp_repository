{
 "cells": [
  {
   "cell_type": "code",
   "execution_count": null,
   "id": "8eb541a9-195e-46ea-a0a4-99bf798db563",
   "metadata": {},
   "outputs": [],
   "source": [
    "# !pip install json"
   ]
  },
  {
   "cell_type": "code",
   "execution_count": 2,
   "id": "c74c32e8-e95b-47ae-9f5b-da4ff86cb7db",
   "metadata": {},
   "outputs": [],
   "source": [
    "import json\n",
    "\n",
    "# Load your dataset\n",
    "with open(\"../creolese-audio-dataset/Audio Files/finetune_eligible/transcripts.json\", \"r\", encoding=\"utf-8\") as f:\n",
    "    data = json.load(f)\n",
    "\n",
    "# Write the \"text\" fields into a txt file\n",
    "with open(\"creolese_corpus.txt\", \"w\", encoding=\"utf-8\") as f:\n",
    "    for sample in data:\n",
    "        f.write(sample[\"text\"].strip() + \"\\n\")\n",
    "                "
   ]
  }
 ],
 "metadata": {
  "kernelspec": {
   "display_name": "Python 3 (ipykernel)",
   "language": "python",
   "name": "python3"
  },
  "language_info": {
   "codemirror_mode": {
    "name": "ipython",
    "version": 3
   },
   "file_extension": ".py",
   "mimetype": "text/x-python",
   "name": "python",
   "nbconvert_exporter": "python",
   "pygments_lexer": "ipython3",
   "version": "3.11.12"
  }
 },
 "nbformat": 4,
 "nbformat_minor": 5
}
